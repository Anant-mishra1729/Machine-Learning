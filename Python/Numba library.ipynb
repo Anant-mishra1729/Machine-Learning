{
 "cells": [
  {
   "cell_type": "markdown",
   "id": "1e147f62",
   "metadata": {},
   "source": [
    "## Numba makes python fast\n",
    "* Use with code which uses numpy arrays, functions and loops.\n",
    "* Numba dectorators applied to functions. \n",
    "* Numba decorated function is compiled to machine code, which runs much faster."
   ]
  },
  {
   "cell_type": "code",
   "execution_count": 1,
   "id": "9eac339c",
   "metadata": {},
   "outputs": [
    {
     "data": {
      "text/plain": [
       "array([[ 0,  1,  2,  3,  4,  5,  6,  7,  8,  9],\n",
       "       [10, 11, 12, 13, 14, 15, 16, 17, 18, 19],\n",
       "       [20, 21, 22, 23, 24, 25, 26, 27, 28, 29],\n",
       "       [30, 31, 32, 33, 34, 35, 36, 37, 38, 39],\n",
       "       [40, 41, 42, 43, 44, 45, 46, 47, 48, 49],\n",
       "       [50, 51, 52, 53, 54, 55, 56, 57, 58, 59],\n",
       "       [60, 61, 62, 63, 64, 65, 66, 67, 68, 69],\n",
       "       [70, 71, 72, 73, 74, 75, 76, 77, 78, 79],\n",
       "       [80, 81, 82, 83, 84, 85, 86, 87, 88, 89],\n",
       "       [90, 91, 92, 93, 94, 95, 96, 97, 98, 99]])"
      ]
     },
     "execution_count": 1,
     "metadata": {},
     "output_type": "execute_result"
    }
   ],
   "source": [
    "from numba import jit\n",
    "import numpy as np\n",
    "import time\n",
    "\n",
    "x = np.arange(100).reshape(10,10)\n",
    "x"
   ]
  },
  {
   "cell_type": "code",
   "execution_count": 20,
   "id": "817f48c7",
   "metadata": {},
   "outputs": [
    {
     "name": "stdout",
     "output_type": "stream",
     "text": [
      "Elapsed time : 0.08365058898925781\n",
      "Elapsed time : 4.57763671875e-05\n"
     ]
    }
   ],
   "source": [
    "# Decorator\n",
    "# This means that this function (func) is going to be compiled \n",
    "# when we call it for first time and then its compiled version is used\n",
    "\n",
    "@jit(nopython=True)\n",
    "def func(arr):\n",
    "    dsum = 0.0\n",
    "    for i in range(arr.shape[0]):\n",
    "        dsum += np.tan(arr[i,i])\n",
    "    return x + dsum\n",
    "    \n",
    "# 1st turn\n",
    "start = time.time()\n",
    "func(x)\n",
    "end = time.time()\n",
    "print(f\"Elapsed time : {end - start}\")\n",
    "\n",
    "# 2nd turn\n",
    "# Till now func is converted to machine code\n",
    "# now pre-compiled function is called\n",
    "start = time.time()\n",
    "func(x)\n",
    "end = time.time()\n",
    "print(f\"Elapsed time : {end - start}\")"
   ]
  },
  {
   "cell_type": "markdown",
   "id": "4f5f37dc",
   "metadata": {},
   "source": [
    "Elapsed time in **2nd function call is lesser than 1st**"
   ]
  },
  {
   "cell_type": "code",
   "execution_count": 22,
   "id": "bd71bd9a",
   "metadata": {},
   "outputs": [
    {
     "name": "stdout",
     "output_type": "stream",
     "text": [
      "Elapsed time : 6.413459777832031e-05\n"
     ]
    }
   ],
   "source": [
    "# 3rd execution\n",
    "start = time.time()\n",
    "func(x)\n",
    "end = time.time()\n",
    "print(f\"Elapsed time : {end - start}\")"
   ]
  }
 ],
 "metadata": {
  "kernelspec": {
   "display_name": "Python 3 (ipykernel)",
   "language": "python",
   "name": "python3"
  },
  "language_info": {
   "codemirror_mode": {
    "name": "ipython",
    "version": 3
   },
   "file_extension": ".py",
   "mimetype": "text/x-python",
   "name": "python",
   "nbconvert_exporter": "python",
   "pygments_lexer": "ipython3",
   "version": "3.9.12"
  }
 },
 "nbformat": 4,
 "nbformat_minor": 5
}
